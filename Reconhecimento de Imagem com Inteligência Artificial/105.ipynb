{
 "cells": [
  {
   "cell_type": "markdown",
   "metadata": {},
   "source": [
    "# Handwritten Digit Recognition"
   ]
  },
  {
   "cell_type": "markdown",
   "metadata": {
    "_uuid": "220032b3497ea93938f371de2fa3a5c2dcd21ad4"
   },
   "source": [
    "[Kaggle LINK](https://www.kaggle.com/bcosta12/handwritten-digit-recognition-mxnet-cnn/notebook)\n",
    "\n",
    "![](./img/6.png)"
   ]
  },
  {
   "cell_type": "markdown",
   "metadata": {},
   "source": [
    "In this tutorial, we'll give you a step by step walk-through of how to build a hand-written digit classifier using the [MNIST](https://en.wikipedia.org/wiki/MNIST_database) dataset. For someone new to deep learning, this exercise is arguably the \"Hello World\" equivalent.\n",
    "\n",
    "MNIST is a widely used dataset for the hand-written digit classification task. It consists of 70,000 labeled 28x28 pixel grayscale images of hand-written digits. The dataset is split into 60,000 training images and 10,000 test images. There are 10 classes (one for each of the 10 digits). The task at hand is to train a model using the 60,000 training images and subsequently test its classification accuracy on the 10,000 test images.\n",
    "\n",
    "![png](https://raw.githubusercontent.com/dmlc/web-data/master/mxnet/example/mnist.png)\n",
    "\n",
    "**Figure 1:** Sample images from the MNIST dataset."
   ]
  },
  {
   "cell_type": "code",
   "execution_count": null,
   "metadata": {
    "_uuid": "57b004ad65b463f0961f934b07519d49158fd0d0"
   },
   "outputs": [],
   "source": [
    "import mxnet as mx\n",
    "import pandas as pd\n",
    "import numpy as np\n",
    "import logging\n",
    "from sklearn.model_selection import train_test_split\n",
    "\n",
    "logging.getLogger().setLevel(logging.DEBUG)  # logging to stdout\n",
    "path = '../input/'"
   ]
  },
  {
   "cell_type": "code",
   "execution_count": null,
   "metadata": {
    "_uuid": "21eec690f9264a80260a0c84affabceb4ee7c111"
   },
   "outputs": [],
   "source": [
    "# Fix the seed\n",
    "mx.random.seed(7)\n",
    "\n",
    "# Set the compute context, GPU is available otherwise CPU\n",
    "ctx = mx.gpu() if mx.test_utils.list_gpus() else mx.cpu()"
   ]
  },
  {
   "cell_type": "code",
   "execution_count": null,
   "metadata": {
    "_uuid": "e9167a54f87a9dc95eb815655dde0ad3ac93b86f"
   },
   "outputs": [],
   "source": [
    "print(\"model extract train init\")\n",
    "df_train = pd.read_csv(path + 'train.csv')\n",
    "y = (np.array(df_train['label'].values.tolist()).astype(np.int)).copy()\n",
    "df_train = df_train.drop(columns=['label'])\n",
    "X = (np.array(df_train.values.tolist()).astype(np.float)).copy()\n",
    "X_train, X_test, y_train, y_test = train_test_split(X, y, test_size=0.2, random_state=0)\n",
    "print(\"model extract train end\")"
   ]
  },
  {
   "cell_type": "code",
   "execution_count": null,
   "metadata": {
    "_uuid": "24d3302fe9da64139ce272c8adaf861469dc0b87"
   },
   "outputs": [],
   "source": [
    "print(\"model extract test init\")\n",
    "df_test_final = pd.read_csv(path + 'test.csv')\n",
    "X_test_final = np.array(df_test_final.values.tolist()).astype(np.float)\n",
    "print(\"model extract train end\")"
   ]
  },
  {
   "cell_type": "code",
   "execution_count": null,
   "metadata": {},
   "outputs": [],
   "source": [
    "def reshare_array(array, dim):\n",
    "    return np.reshape(array, (-1, 1, dim, dim))"
   ]
  },
  {
   "cell_type": "code",
   "execution_count": null,
   "metadata": {},
   "outputs": [],
   "source": [
    "X_train = reshare_array(X_train, 28)\n",
    "X_test = reshare_array(X_test, 28)\n",
    "X_test_final = reshare_array(X_test_final, 28)\n",
    "y_train = np.array(y_train)\n",
    "y_test = np.array(y_test)"
   ]
  },
  {
   "cell_type": "code",
   "execution_count": null,
   "metadata": {
    "_uuid": "bb6bbaccc0c42e290557e9ff9dd5f813ff9f43d1"
   },
   "outputs": [],
   "source": [
    "batch_size = 100\n",
    "train_iter = mx.io.NDArrayIter(X_train, y_train, batch_size)\n",
    "val_iter = mx.io.NDArrayIter(X_test, y_test, batch_size)"
   ]
  },
  {
   "cell_type": "markdown",
   "metadata": {
    "_uuid": "42aa7754a0ac4067d255675ff67bba1d718e9a27"
   },
   "source": [
    "### Convolutional Neural Network\n",
    "\n",
    "Earlier, we briefly touched on a drawback of MLP when we said we need to discard the input image's original shape and flatten it as a vector before we can feed it as input to the MLP's first fully connected layer. Turns out this is an important issue because we don't take advantage of the fact that pixels in the image have natural spatial correlation along the horizontal and vertical axes. A convolutional neural network (CNN) aims to address this problem by using a more structured weight representation. Instead of flattening the image and doing a simple matrix-matrix multiplication, it employs one or more convolutional layers that each performs a 2-D convolution on the input image.\n",
    "\n",
    "A single convolution layer consists of one or more filters that each play the role of a feature detector. During training, a CNN learns appropriate representations (parameters) for these filters. Similar to MLP, the output from the convolutional layer is transformed by applying a non-linearity. Besides the convolutional layer, another key aspect of a CNN is the pooling layer. A pooling layer serves to make the CNN translation invariant: a digit remains the same even when it is shifted left/right/up/down by a few pixels. A pooling layer reduces a *n x m* patch into a single value to make the network less sensitive to the spatial location. Pooling layer is always included after each conv (+ activation) layer in the CNN.\n",
    "\n",
    "The following source code defines a convolutional neural network architecture called LeNet. LeNet is a popular network known to work well on digit classification tasks. We will use a slightly different version from the original LeNet implementation, replacing the sigmoid activations with tanh activations for the neurons"
   ]
  },
  {
   "cell_type": "code",
   "execution_count": null,
   "metadata": {
    "_uuid": "6389295e5d9ef182b18fc55b5d488a1dbf2834af"
   },
   "outputs": [],
   "source": [
    "data = mx.sym.var('data')\n",
    "# first conv layer\n",
    "conv1 = mx.sym.Convolution(data=data, kernel=(5,5), num_filter=20)\n",
    "tanh1 = mx.sym.Activation(data=conv1, act_type=\"tanh\")\n",
    "pool1 = mx.sym.Pooling(data=tanh1, pool_type=\"max\", kernel=(2,2), stride=(2,2))\n",
    "# second conv layer\n",
    "conv2 = mx.sym.Convolution(data=pool1, kernel=(5,5), num_filter=50)\n",
    "tanh2 = mx.sym.Activation(data=conv2, act_type=\"tanh\")\n",
    "pool2 = mx.sym.Pooling(data=tanh2, pool_type=\"max\", kernel=(2,2), stride=(2,2))\n",
    "# first fullc layer\n",
    "flatten = mx.sym.flatten(data=pool2)\n",
    "fc1 = mx.symbol.FullyConnected(data=flatten, num_hidden=500)\n",
    "tanh3 = mx.sym.Activation(data=fc1, act_type=\"tanh\")\n",
    "# second fullc\n",
    "fc2 = mx.sym.FullyConnected(data=tanh3, num_hidden=10)\n",
    "# softmax loss\n",
    "lenet = mx.sym.SoftmaxOutput(data=fc2, name='softmax')"
   ]
  },
  {
   "cell_type": "markdown",
   "metadata": {
    "_uuid": "dc712f78a138976fa29377d86e69456d60583b30"
   },
   "source": [
    "![png](https://raw.githubusercontent.com/dmlc/web-data/master/mxnet/image/conv_mnist.png)\n",
    "\n",
    "**Figure 3:** First conv + pooling layer in LeNet.\n",
    "\n",
    "Now we train LeNet with the same hyper-parameters as before. Note that, if a GPU is available, we recommend using it. This greatly speeds up computation given that LeNet is more complex and compute-intensive than the previous multilayer perceptron. To do so, we only need to change `mx.cpu()` to `mx.gpu()` and MXNet takes care of the rest. Just like before, we'll stop training after 10 epochs."
   ]
  },
  {
   "cell_type": "code",
   "execution_count": null,
   "metadata": {
    "_uuid": "4aead5e1780998b969768fd7bb29b847535e4777"
   },
   "outputs": [],
   "source": [
    "lenet_model = mx.mod.Module(symbol=lenet, context=ctx)"
   ]
  },
  {
   "cell_type": "code",
   "execution_count": null,
   "metadata": {
    "_uuid": "21bf81321f2228920764f480be366dcffb7a0eb5"
   },
   "outputs": [],
   "source": [
    "# train with the same\n",
    "lenet_model.fit(train_iter,\n",
    "                eval_data=val_iter,\n",
    "                optimizer='sgd',\n",
    "                optimizer_params={'learning_rate':0.005},\n",
    "                eval_metric='acc',\n",
    "                batch_end_callback = mx.callback.Speedometer(batch_size, 100),\n",
    "                num_epoch=150)"
   ]
  },
  {
   "cell_type": "markdown",
   "metadata": {
    "_uuid": "d2d6f3a58b7e988ea9c96f49632b4d2cb74c9159"
   },
   "source": [
    "### Prediction\n",
    "\n",
    "Finally, we'll use the trained LeNet model to generate predictions for the test data."
   ]
  },
  {
   "cell_type": "code",
   "execution_count": null,
   "metadata": {
    "_uuid": "79a0c78db5c4635268f747cc15730423eac46260"
   },
   "outputs": [],
   "source": [
    "test_iter = mx.io.NDArrayIter(X_test_final, None, batch_size)\n",
    "prob = lenet_model.predict(test_iter)\n",
    "\n",
    "y = []\n",
    "for p in list(prob):\n",
    "   y.append(list(p).index(np.max(p)))"
   ]
  },
  {
   "cell_type": "code",
   "execution_count": null,
   "metadata": {},
   "outputs": [],
   "source": [
    "test_iter = mx.io.NDArrayIter(X_test, y_test, batch_size)\n",
    "# predict accuracy of mlp\n",
    "acc = mx.metric.Accuracy()\n",
    "lenet_model.score(test_iter, acc)\n",
    "print(acc)\n",
    "assert acc.get()[1] > 0.96, \"Achieved accuracy (%f) is lower than expected (0.96)\" % acc.get()[1]"
   ]
  },
  {
   "cell_type": "code",
   "execution_count": null,
   "metadata": {},
   "outputs": [],
   "source": [
    "df = pd.DataFrame({'ImageId': [x for x in range(1, len(y) + 1)], 'Label': y})\n",
    "df.to_csv('submission.csv', index=False)"
   ]
  },
  {
   "cell_type": "markdown",
   "metadata": {
    "_uuid": "cea6b6938934f5a7a7a3126c03ba001593d856af"
   },
   "source": [
    "If all went well, we should see a higher accuracy metric for predictions made using LeNet. With CNN we should be able to correctly predict around 98% of all test images.\n",
    "\n",
    "## Summary\n",
    "\n",
    "In this tutorial, we have learned how to use MXNet, based on [MXNet Examples](https://mxnet.incubator.apache.org/versions/master/tutorials/python/mnist.html)."
   ]
  },
  {
   "cell_type": "code",
   "execution_count": null,
   "metadata": {},
   "outputs": [],
   "source": []
  }
 ],
 "metadata": {
  "display_name": "",
  "kernelspec": {
   "display_name": "Python 3",
   "language": "python",
   "name": "python3"
  },
  "language": "python",
  "language_info": {
   "codemirror_mode": {
    "name": "ipython",
    "version": 3
   },
   "file_extension": ".py",
   "mimetype": "text/x-python",
   "name": "python",
   "nbconvert_exporter": "python",
   "pygments_lexer": "ipython3",
   "version": "3.8.3"
  },
  "name": ""
 },
 "nbformat": 4,
 "nbformat_minor": 4
}
